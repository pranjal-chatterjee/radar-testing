{
 "cells": [
  {
   "cell_type": "code",
   "execution_count": 1,
   "id": "c4d4c1eb",
   "metadata": {},
   "outputs": [],
   "source": [
    "import json"
   ]
  },
  {
   "cell_type": "code",
   "execution_count": 3,
   "id": "6b43c1b0",
   "metadata": {},
   "outputs": [],
   "source": [
    "filename = 'demo1.txt'"
   ]
  },
  {
   "cell_type": "code",
   "execution_count": 6,
   "id": "49d87bd8",
   "metadata": {},
   "outputs": [],
   "source": [
    "header_order = {}\n",
    "answer_count = 0"
   ]
  },
  {
   "cell_type": "code",
   "execution_count": 7,
   "id": "778f947e",
   "metadata": {},
   "outputs": [],
   "source": [
    "with open(filename, 'r') as f:\n",
    "    for line in f:\n",
    "        line = line.strip()\n",
    "        if line:\n",
    "            try:\n",
    "                record = json.loads(line)\n",
    "                if \"answer\" in record:\n",
    "                    answer_count += 1\n",
    "                    for key in record[\"answer\"].keys():\n",
    "                        if key not in header_order:\n",
    "                            header_order[key] = None\n",
    "            except Exception as e:\n",
    "                print(f\"Error parsing line: {e}\")\n"
   ]
  },
  {
   "cell_type": "code",
   "execution_count": 8,
   "id": "8b6e22de",
   "metadata": {},
   "outputs": [
    {
     "name": "stdout",
     "output_type": "stream",
     "text": [
      "Number of 'answer' entries in the file: 36\n"
     ]
    }
   ],
   "source": [
    "print(f\"Number of 'answer' entries in the file: {answer_count}\")"
   ]
  },
  {
   "cell_type": "code",
   "execution_count": 9,
   "id": "6574003d",
   "metadata": {},
   "outputs": [
    {
     "name": "stdout",
     "output_type": "stream",
     "text": [
      "Headers found in 'answer' (in file order):\n",
      "datenow\n",
      "timenow\n",
      "rangeIdx\n",
      "dopplerIdx\n",
      "numDetectedObj\n",
      "x_coord\n",
      "y_coord\n",
      "z_coord\n",
      "rp_y\n",
      "doppz\n",
      "interFrameProcessingTime\n",
      "interFrameProcessingMargin\n",
      "interChirpProcessingMargin\n",
      "transmitOutputTime\n",
      "activeFrameCPULoad\n",
      "interFrameCPULoad\n",
      "snrDB\n",
      "noiseDB\n",
      "activity\n"
     ]
    }
   ],
   "source": [
    "print(\"Headers found in 'answer' (in file order):\")\n",
    "for h in header_order:\n",
    "    print(h)"
   ]
  },
  {
   "cell_type": "code",
   "execution_count": 7,
   "id": "ca5e39f6",
   "metadata": {},
   "outputs": [
    {
     "name": "stdout",
     "output_type": "stream",
     "text": [
      "Total frames: 36\n"
     ]
    }
   ],
   "source": [
    "import json\n",
    "\n",
    "filename = 'demo1.txt'\n",
    "\n",
    "all_rp_y = []\n",
    "all_doppz = []\n",
    "\n",
    "with open(filename, 'r') as f:\n",
    "    for line in f:\n",
    "        line = line.strip()\n",
    "        if line:\n",
    "            try:\n",
    "                record = json.loads(line)\n",
    "                if \"answer\" in record:\n",
    "                    ans = record[\"answer\"]\n",
    "                    # doppz could be nested (list of lists). Here, we just take the first sequence for animation, adjust if needed.\n",
    "                    all_doppz.append(ans[\"doppz\"])\n",
    "                    all_rp_y.append(ans[\"rp_y\"])\n",
    "            except Exception as e:\n",
    "                print(f\"Error parsing line: {e}\")\n",
    "\n",
    "print(f\"Total frames: {len(all_rp_y)}\")\n"
   ]
  }
 ],
 "metadata": {
  "kernelspec": {
   "display_name": "pranjal_env",
   "language": "python",
   "name": "python3"
  },
  "language_info": {
   "codemirror_mode": {
    "name": "ipython",
    "version": 3
   },
   "file_extension": ".py",
   "mimetype": "text/x-python",
   "name": "python",
   "nbconvert_exporter": "python",
   "pygments_lexer": "ipython3",
   "version": "3.12.7"
  }
 },
 "nbformat": 4,
 "nbformat_minor": 5
}
